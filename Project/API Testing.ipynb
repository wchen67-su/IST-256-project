{
 "cells": [
  {
   "cell_type": "code",
   "execution_count": 1,
   "metadata": {},
   "outputs": [],
   "source": [
    "import requests\n",
    "import pandas as pd\n",
    "import random\n",
    "from IPython.display import Markdown, display"
   ]
  },
  {
   "cell_type": "code",
   "execution_count": 8,
   "metadata": {},
   "outputs": [
    {
     "data": {
      "text/markdown": [
       "**Generating a movie description...**"
      ],
      "text/plain": [
       "<IPython.core.display.Markdown object>"
      ]
     },
     "metadata": {},
     "output_type": "display_data"
    },
    {
     "name": "stdout",
     "output_type": "stream",
     "text": [
      "1. Teenagers, in their last year of High School, steel the subjects of the Baccalaureate from the education exam division in order to succeed at the exam.\n",
      "\n",
      "Does this movie sound interesting to you? Please type yes or no: no\n"
     ]
    },
    {
     "data": {
      "text/markdown": [
       "**Generating a movie description...**"
      ],
      "text/plain": [
       "<IPython.core.display.Markdown object>"
      ]
     },
     "metadata": {},
     "output_type": "display_data"
    },
    {
     "name": "stdout",
     "output_type": "stream",
     "text": [
      "2. A traumatized young man abducts Korean leaders, believing they're toxic reptilian aliens - a fifth column launching a takeover of beloved Earth. Stumped law enforcement geniuses half-seriously hire a disgraced, disheveled private detective with a long-ago history of super-crime solving. The alienated South Korean youngster Lee Byeong-gu builds an isolated basement command post/torture chamber/film studio to force the awful truth out of the slimy, uncooperative politicians and businesspeople, then alert the public. Byeong-gu is helped by his devoted girlfriend, who buys his theories, but wonders if his horrible childhood has colored his thinking.\n",
      "\n",
      "Does this movie sound interesting to you? Please type yes or no: no\n"
     ]
    },
    {
     "data": {
      "text/markdown": [
       "**Generating a movie description...**"
      ],
      "text/plain": [
       "<IPython.core.display.Markdown object>"
      ]
     },
     "metadata": {},
     "output_type": "display_data"
    },
    {
     "name": "stdout",
     "output_type": "stream",
     "text": [
      "3. A remake of the 1979 controversial cult classic, I Spit on Your Grave retells the horrific tale of writer Jennifer Hills who takes a retreat from the city to a charming cabin in the woods to start on her next book. But Jennifer's presence in the small town attracts the attention of a few morally deprived locals led by Johnny, the town's service station owner, his two co-workers, Andy and Stanley, who along with their socially and mentally challenged friend Matthew, set out one night to teach this city girl a lesson.\n",
      "\n",
      "Does this movie sound interesting to you? Please type yes or no: no\n"
     ]
    },
    {
     "data": {
      "text/markdown": [
       "**Generating a movie description...**"
      ],
      "text/plain": [
       "<IPython.core.display.Markdown object>"
      ]
     },
     "metadata": {},
     "output_type": "display_data"
    },
    {
     "name": "stdout",
     "output_type": "stream",
     "text": [
      "4. Gary Faulkner is an ex-con, unemployed handyman, and modern day Don Quixote who receives a vision from God telling him to capture Osama Bin Laden. Armed with only a single sword purchased from a home-shopping network, Gary travels to Pakistan to complete his mission. While on his quest, Gary encounters old friends back home in Colorado, the new friends he makes in Pakistan, the enemies he makes at the CIA - and even God and Osama themselves.\n",
      "\n",
      "Does this movie sound interesting to you? Please type yes or no: no\n"
     ]
    },
    {
     "data": {
      "text/markdown": [
       "**Generating a movie description...**"
      ],
      "text/plain": [
       "<IPython.core.display.Markdown object>"
      ]
     },
     "metadata": {},
     "output_type": "display_data"
    },
    {
     "name": "stdout",
     "output_type": "stream",
     "text": [
      "5. After a teenager has a terrifying vision of him and his friends dying in a plane crash, he prevents the accident only to have Death hunt them down, one by one.\n",
      "\n",
      "Does this movie sound interesting to you? Please type yes or no: no\n"
     ]
    },
    {
     "data": {
      "text/markdown": [
       "**Generating a movie description...**"
      ],
      "text/plain": [
       "<IPython.core.display.Markdown object>"
      ]
     },
     "metadata": {},
     "output_type": "display_data"
    },
    {
     "name": "stdout",
     "output_type": "stream",
     "text": [
      "6. A young man receives an emergency phone call on his cell phone from an older woman. She claims to have been kidnapped – and the kidnappers have targeted her husband and child next.\n",
      "\n",
      "Does this movie sound interesting to you? Please type yes or no: no\n"
     ]
    },
    {
     "data": {
      "text/markdown": [
       "**Generating a movie description...**"
      ],
      "text/plain": [
       "<IPython.core.display.Markdown object>"
      ]
     },
     "metadata": {},
     "output_type": "display_data"
    },
    {
     "name": "stdout",
     "output_type": "stream",
     "text": [
      "7. A teenage boy, struggling to discover what man he wants to be, is forced to spend time with his Father than he has not seen in 10 years.\n",
      "\n",
      "Does this movie sound interesting to you? Please type yes or no: no\n"
     ]
    },
    {
     "data": {
      "text/markdown": [
       "**Generating a movie description...**"
      ],
      "text/plain": [
       "<IPython.core.display.Markdown object>"
      ]
     },
     "metadata": {},
     "output_type": "display_data"
    },
    {
     "name": "stdout",
     "output_type": "stream",
     "text": [
      "8. \"Ninja Party\" is a coming of age story of two teenage coeds who find themselves in a comprising situation when they get involved in secret debauchery.\n",
      "\n",
      "Does this movie sound interesting to you? Please type yes or no: n\n",
      "Invalid input. Please type yes or no: \n",
      "Does this movie sound interesting to you? Please type yes or no: no\n"
     ]
    },
    {
     "data": {
      "text/markdown": [
       "**Generating a movie description...**"
      ],
      "text/plain": [
       "<IPython.core.display.Markdown object>"
      ]
     },
     "metadata": {},
     "output_type": "display_data"
    },
    {
     "name": "stdout",
     "output_type": "stream",
     "text": [
      "9. Jackie is a CCTV operator. Each day, she watches over a small part of the world, protecting the people living their lives under her gaze. One day, a man shows his face on her monitor, a man she thought she would never see again, a man she hoped never to see again. Now she has no choice and is compelled to confront him.\n",
      "\n",
      "Does this movie sound interesting to you? Please type yes or no: no\n"
     ]
    },
    {
     "data": {
      "text/markdown": [
       "**Generating a movie description...**"
      ],
      "text/plain": [
       "<IPython.core.display.Markdown object>"
      ]
     },
     "metadata": {},
     "output_type": "display_data"
    },
    {
     "name": "stdout",
     "output_type": "stream",
     "text": [
      "10. The story of the Buckman family and friends, attempting to bring up their children. They suffer/enjoy all the events that occur: estranged relatives, the \"black sheep\" of the family, the eccentrics, the skeletons in the closet, and the rebellious teenagers.\n",
      "\n",
      "Does this movie sound interesting to you? Please type yes or no: no\n"
     ]
    },
    {
     "data": {
      "text/markdown": [
       "**Generating a movie description...**"
      ],
      "text/plain": [
       "<IPython.core.display.Markdown object>"
      ]
     },
     "metadata": {},
     "output_type": "display_data"
    },
    {
     "name": "stdout",
     "output_type": "stream",
     "text": [
      "11. Martha is a single woman who lives for one passion: cooking. The head chef at a chic restaurant, Martha has no time for anything - or anyone - else. But Martha's solitary life is shaken when a fateful accident brings her sister's eight-year-old daughter, Lina, to her doorstep.\n",
      "\n",
      "Does this movie sound interesting to you? Please type yes or no: no\n"
     ]
    },
    {
     "data": {
      "text/markdown": [
       "**Generating a movie description...**"
      ],
      "text/plain": [
       "<IPython.core.display.Markdown object>"
      ]
     },
     "metadata": {},
     "output_type": "display_data"
    },
    {
     "name": "stdout",
     "output_type": "stream",
     "text": [
      "12. Set during the Vietnam war, Firebase follows American soldier Hines through an ever-deepening web of science fiction madness.\n",
      "\n",
      "Does this movie sound interesting to you? Please type yes or no: no\n"
     ]
    },
    {
     "data": {
      "text/markdown": [
       "**Generating a movie description...**"
      ],
      "text/plain": [
       "<IPython.core.display.Markdown object>"
      ]
     },
     "metadata": {},
     "output_type": "display_data"
    },
    {
     "name": "stdout",
     "output_type": "stream",
     "text": [
      "13. A young wannabe musician  who discovers he has bitten off more than he can chew when he joins an eccentric pop band led by the mysterious and enigmatic Frank.\n",
      "\n",
      "Does this movie sound interesting to you? Please type yes or no: no\n"
     ]
    },
    {
     "data": {
      "text/markdown": [
       "**Generating a movie description...**"
      ],
      "text/plain": [
       "<IPython.core.display.Markdown object>"
      ]
     },
     "metadata": {},
     "output_type": "display_data"
    },
    {
     "name": "stdout",
     "output_type": "stream",
     "text": [
      "14. Dr. Richard Sturgess leads a team of compassionate doctors at a veteran's hospital. Along with Drs. Morgan, Handleman and Van Dorn, he fights to deliver adequate care to needy veterans in the face of funding cuts and a corrupt administration. To succeed, the staff may have to bend the rules and circumvent the villainous \"Article 99,\" a bureaucratic loophole that prevents veterans from receiving the benefits they deserve.\n",
      "\n",
      "Does this movie sound interesting to you? Please type yes or no: non\n",
      "Invalid input. Please type yes or no: \n",
      "Does this movie sound interesting to you? Please type yes or no: no\n"
     ]
    },
    {
     "data": {
      "text/markdown": [
       "**Generating a movie description...**"
      ],
      "text/plain": [
       "<IPython.core.display.Markdown object>"
      ]
     },
     "metadata": {},
     "output_type": "display_data"
    },
    {
     "name": "stdout",
     "output_type": "stream",
     "text": [
      "15. Seventeen-year-old Alexia Wheaton hasn't been herself lately. Neighter has her 15-year-old sister Hayley. In fact they've been each other. Alexia becomes fashion-challenged Hayley and she in turn becomes styling Alexia and the complications come fast furious and funny.\n",
      "\n",
      "Does this movie sound interesting to you? Please type yes or no: o\n",
      "Invalid input. Please type yes or no: \n",
      "Does this movie sound interesting to you? Please type yes or no: no\n"
     ]
    },
    {
     "data": {
      "text/markdown": [
       "**Generating a movie description...**"
      ],
      "text/plain": [
       "<IPython.core.display.Markdown object>"
      ]
     },
     "metadata": {},
     "output_type": "display_data"
    },
    {
     "name": "stdout",
     "output_type": "stream",
     "text": [
      "16. My Mother's Castle (Le chateau de ma mere) is a sequel and companion piece to My Father's Glory (La Gloire de Mon Pere), both based on the childhood recollections of Marcel Pagnol.  Like its predecessor, the movie explores the adventures of the young Marcel (Julien Ciamaca) during his summers at the family summer home in Provence.\n",
      "\n",
      "Does this movie sound interesting to you? Please type yes or no: no\n"
     ]
    },
    {
     "data": {
      "text/markdown": [
       "**Generating a movie description...**"
      ],
      "text/plain": [
       "<IPython.core.display.Markdown object>"
      ]
     },
     "metadata": {},
     "output_type": "display_data"
    },
    {
     "name": "stdout",
     "output_type": "stream",
     "text": [
      "17. Sculptor Ivan Igor struggles in vain to prevent his partner from burning his wax museum, and his \"children\". Years later, Igor starts a new museum in New York, but his maimed hands confine him to directing lesser artists. People begin disappearing; Igor takes a sinister interest in Charlotte, fiancée of his assistant Ralph, but arouses the suspicions of roommate, wisecracking reporter Florence.\n",
      "\n",
      "Does this movie sound interesting to you? Please type yes or no: no\n"
     ]
    },
    {
     "data": {
      "text/markdown": [
       "**Generating a movie description...**"
      ],
      "text/plain": [
       "<IPython.core.display.Markdown object>"
      ]
     },
     "metadata": {},
     "output_type": "display_data"
    },
    {
     "name": "stdout",
     "output_type": "stream",
     "text": [
      "18. A deranged killer lives in the basement of an old mansion and pops out occasionally to commit grisly murders that include be-headings.\n",
      "\n",
      "Does this movie sound interesting to you? Please type yes or no: no\n"
     ]
    },
    {
     "data": {
      "text/markdown": [
       "**Generating a movie description...**"
      ],
      "text/plain": [
       "<IPython.core.display.Markdown object>"
      ]
     },
     "metadata": {},
     "output_type": "display_data"
    },
    {
     "name": "stdout",
     "output_type": "stream",
     "text": [
      "19. Once a rising star of the rodeo circuit, and a gifted horse trainer, young cowboy Brady is warned that his riding days are over, after a horse crushed his skull at a rodeo. Back home on the Pine Ridge Reservation, with little desire or alternatives for a different way of life, Brady’s sense of inadequacy mounts as he is unable to ride or rodeo – the essentials of being a cowboy. In an attempt to regain control of his own fate, Brady undertakes a search for new identity and what it means to be a man in the heartland of America.\n",
      "\n",
      "Does this movie sound interesting to you? Please type yes or no: no\n"
     ]
    },
    {
     "data": {
      "text/markdown": [
       "**Generating a movie description...**"
      ],
      "text/plain": [
       "<IPython.core.display.Markdown object>"
      ]
     },
     "metadata": {},
     "output_type": "display_data"
    },
    {
     "name": "stdout",
     "output_type": "stream",
     "text": [
      "20. Red is an aging scam-artist who's just been released from prison together with Ronnie, a young and not-so-bright hoodlum who is easily manipulated. Their new business is to organize fake-money sales and then kill the buyer to take his money; but when Ronnie kills an undercover secret service agent, his partner Jimmy Mercer vows revenge and is given one week to catch the killers before being transferred. Written by Giancarlo Cairella\n",
      "\n",
      "Does this movie sound interesting to you? Please type yes or no: no\n"
     ]
    },
    {
     "data": {
      "text/markdown": [
       "**Generating a movie description...**"
      ],
      "text/plain": [
       "<IPython.core.display.Markdown object>"
      ]
     },
     "metadata": {},
     "output_type": "display_data"
    },
    {
     "name": "stdout",
     "output_type": "stream",
     "text": [
      "21. A widow falls for a guy who bears a striking resemblance to her late husband.\n",
      "\n",
      "Does this movie sound interesting to you? Please type yes or no: no\n"
     ]
    },
    {
     "data": {
      "text/markdown": [
       "**Generating a movie description...**"
      ],
      "text/plain": [
       "<IPython.core.display.Markdown object>"
      ]
     },
     "metadata": {},
     "output_type": "display_data"
    },
    {
     "name": "stdout",
     "output_type": "stream",
     "text": [
      "22. Something or someone is attacking people one by one on the beach. Some of them are mutilated, but most of them are sucked into the sand, disappearing without a trace. What is the creature responsible? Where does it live, and where did it come from? And is there any chance of it reproducing? Meanwhile, David Huffman and Mariana Hill are once-almost-married old friends, reunited over the death of her mother on the beach, and searching for clues in the abandoned buildings where they used to play when they were young.\n",
      "\n",
      "Does this movie sound interesting to you? Please type yes or no: no\n"
     ]
    },
    {
     "data": {
      "text/markdown": [
       "**Generating a movie description...**"
      ],
      "text/plain": [
       "<IPython.core.display.Markdown object>"
      ]
     },
     "metadata": {},
     "output_type": "display_data"
    },
    {
     "name": "stdout",
     "output_type": "stream",
     "text": [
      "23. A hard-nosed cop reluctantly teams up with a wise-cracking criminal temporarily paroled to him, in order to track down a killer.\n",
      "\n",
      "Does this movie sound interesting to you? Please type yes or no: yes\n"
     ]
    },
    {
     "data": {
      "text/markdown": [
       "**Retrieving movie details...**"
      ],
      "text/plain": [
       "<IPython.core.display.Markdown object>"
      ]
     },
     "metadata": {},
     "output_type": "display_data"
    },
    {
     "data": {
      "text/markdown": [
       "**Title:** 48 Hrs."
      ],
      "text/plain": [
       "<IPython.core.display.Markdown object>"
      ]
     },
     "metadata": {},
     "output_type": "display_data"
    },
    {
     "data": {
      "text/markdown": [
       "**Release Date (year-month-date):** 1982-12-07"
      ],
      "text/plain": [
       "<IPython.core.display.Markdown object>"
      ]
     },
     "metadata": {},
     "output_type": "display_data"
    },
    {
     "data": {
      "text/markdown": [
       "**Genres:** ['Thriller', 'Action', 'Comedy', 'Crime', 'Drama']"
      ],
      "text/plain": [
       "<IPython.core.display.Markdown object>"
      ]
     },
     "metadata": {},
     "output_type": "display_data"
    },
    {
     "data": {
      "text/markdown": [
       "**Average Rating (Based on user votes out of 10):** 6.6"
      ],
      "text/plain": [
       "<IPython.core.display.Markdown object>"
      ]
     },
     "metadata": {},
     "output_type": "display_data"
    }
   ],
   "source": [
    "page_number = 0\n",
    "overview_length = 0\n",
    "count = 1\n",
    "\n",
    "def printbold(string):\n",
    "    display(Markdown(string))\n",
    "    \n",
    "def moviegenerator():\n",
    "    overview = []\n",
    "    global page_number\n",
    "    page_number = str(random.randint(0,1000))\n",
    "    api_key = 'ed49669e2301eefe165a22a0551c3496'\n",
    "    response = requests.get('https://api.themoviedb.org/3/movie/popular?api_key=' +  api_key + '&language=en-US&page=' + page_number)\n",
    "    movies = response.json()\n",
    "    for i in range(0,len(movies['results'])):\n",
    "        overview.append(movies['results'][i].get('overview'))\n",
    "    global overview_length\n",
    "    overview_length = random.randint(0,len(overview)-1)\n",
    "    random_overview = overview[overview_length]\n",
    "    return random_overview\n",
    "\n",
    "def getgenre():\n",
    "    genre_id = []\n",
    "    genres = []\n",
    "    all_genres = []\n",
    "    genre_names = []\n",
    "    api_key = 'ed49669e2301eefe165a22a0551c3496'\n",
    "    response = requests.get('https://api.themoviedb.org/3/movie/popular?api_key=' +  api_key + '&language=en-US&page=' + page_number)\n",
    "    movies = response.json()\n",
    "    for i in range(0,len(movies['results'])):\n",
    "        genre_id.append(movies['results'][i].get('genre_ids'))\n",
    "    movie_id = genre_id[overview_length]\n",
    "    genre_response = requests.get('https://api.themoviedb.org/3/genre/movie/list?api_key=' +  api_key + '&language=en-US')\n",
    "    genre = genre_response.json()\n",
    "    for i in range(0,len(genre['genres'])):\n",
    "        all_genres.append(genre['genres'][i].get('id'))\n",
    "        genre_names.append(genre['genres'][i].get('name'))\n",
    "\n",
    "    for i in range(0,len(movie_id)):\n",
    "        for j in range(0,len(all_genres)):\n",
    "            if movie_id[i] == all_genres[j]:\n",
    "                genres.append(genre_names[j])\n",
    "    return genres\n",
    "\n",
    "def gettitle():\n",
    "    all_titles = []\n",
    "    api_key = 'ed49669e2301eefe165a22a0551c3496'\n",
    "    response = requests.get('https://api.themoviedb.org/3/movie/popular?api_key=' +  api_key + '&language=en-US&page=' + page_number)\n",
    "    movies = response.json()\n",
    "    for i in range(0,len(movies['results'])):\n",
    "        all_titles.append(movies['results'][i].get('title'))        \n",
    "    movie_title = all_titles[overview_length]   \n",
    "    return movie_title\n",
    "\n",
    "def getreleasedate():\n",
    "    all_release_dates = []\n",
    "    api_key = 'ed49669e2301eefe165a22a0551c3496'\n",
    "    response = requests.get('https://api.themoviedb.org/3/movie/popular?api_key=' +  api_key + '&language=en-US&page=' + page_number)\n",
    "    movies = response.json()\n",
    "    for i in range(0,len(movies['results'])):\n",
    "        all_release_dates.append(movies['results'][i].get('release_date'))  \n",
    "    release_date = all_release_dates[overview_length]\n",
    "    return release_date\n",
    "\n",
    "def getuseraveragerating():\n",
    "    all_average_ratings = []\n",
    "    api_key = 'ed49669e2301eefe165a22a0551c3496'\n",
    "    response = requests.get('https://api.themoviedb.org/3/movie/popular?api_key=' +  api_key + '&language=en-US&page=' + page_number)\n",
    "    movies = response.json()\n",
    "    for i in range(0,len(movies['results'])):\n",
    "        all_average_ratings.append(movies['results'][i].get('vote_average'))\n",
    "    average_rating = all_average_ratings[overview_length]\n",
    "    return average_rating\n",
    "\n",
    "def getmovieid():\n",
    "    all_movie_ids = []\n",
    "    api_key = 'ed49669e2301eefe165a22a0551c3496'\n",
    "    response = requests.get('https://api.themoviedb.org/3/movie/popular?api_key=' +  api_key + '&language=en-US&page=' + page_number)\n",
    "    movies = response.json()\n",
    "    for i in range(0,len(movies['results'])):\n",
    "        all_movie_ids.append(movies['results'][i].get('id'))  \n",
    "    movie_id = all_movie_ids[overview_length]\n",
    "    return movie_id\n",
    "\n",
    "stop = True\n",
    "while stop:\n",
    "    if moviegenerator() == \" \":\n",
    "        pass\n",
    "    else:\n",
    "        printbold('**Generating a movie description...**')\n",
    "        print(str(count)+'.', moviegenerator()+'\\n')\n",
    "        user_input = input(\"Does this movie sound interesting to you? Please type yes or no: \").lower()\n",
    "\n",
    "        while True:\n",
    "            if user_input == 'yes':\n",
    "                printbold('**Retrieving movie details...**')\n",
    "                printbold(\"**Title:**\" + ' ' + gettitle()),print(end='')\n",
    "                printbold(\"**Release Date (year-month-date):**\" + ' ' + getreleasedate())\n",
    "                printbold(\"**Genres:**\" + ' ' + str(getgenre()))\n",
    "                printbold(\"**Average Rating (Based on user votes out of 10):**\" + ' ' + str(getuseraveragerating()))\n",
    "                stop = False\n",
    "                break\n",
    "            elif user_input == 'no':\n",
    "                count = count + 1 \n",
    "                break\n",
    "            else:\n",
    "                print(\"Invalid input. Please type yes or no: \")\n",
    "                user_input = input(\"Does this movie sound interesting to you? Please type yes or no: \").lower()"
   ]
  },
  {
   "cell_type": "code",
   "execution_count": 9,
   "metadata": {},
   "outputs": [
    {
     "name": "stdout",
     "output_type": "stream",
     "text": [
      "Generating random movie\n",
      "When his long-lost outlaw father returns, Tommy \"White Knife\" Stockburn goes on an adventure-filled journey across the Old West with his five brothers.\n",
      "Does this movie sound interesting to you?\n",
      "Please type yes or no: no\n",
      "Generating random movie\n",
      "A low-ranking yakuza is given the mission to kill a high-ranking yakuza from a rival group. Wanting recognition, he accepts the assignment, only to meet an enthusiastic office lady.\n",
      "Does this movie sound interesting to you?\n",
      "Please type yes or no: asjd\n",
      "Invalid input. Please type yes or no: \n",
      "Does this movie sound interesting to you? Please type yes or no: ashd\n",
      "Invalid input. Please type yes or no: \n",
      "Does this movie sound interesting to you? Please type yes or no: NO\n",
      "Generating random movie\n",
      "A ruthless gangster named Don is killed during a scuffle with the police. Since only DSP DeSilva knows of this incident, he recruits another person named Vijay who is a spitting image of Don. Vijay is planted in Don's place in Don's gang and DeSilva has a plan to nab the entire gang in this way. But when DeSilva dies during a raid, the secret that Vijay is not Don is also buried with him.\n",
      "Does this movie sound interesting to you?\n",
      "Please type yes or no: YES\n",
      "33104\n",
      "Title: Don\n",
      "Release Date (year-month-date): 1978-04-20\n",
      "Genres: ['Action', 'Adventure', 'Comedy', 'Crime', 'Thriller']\n",
      "Average Rating (Based on user votes out of 10): 6.4\n"
     ]
    }
   ],
   "source": [
    "page_number = 0\n",
    "overview_length = 0\n",
    "movies = 0\n",
    "\n",
    "def moviegenerator():\n",
    "    amount_of_movies = []\n",
    "    global page_number\n",
    "    page_number = str(random.randint(0,1000))\n",
    "    api_key = 'ed49669e2301eefe165a22a0551c3496'\n",
    "    response = requests.get('https://api.themoviedb.org/3/movie/popular?api_key=' +  api_key + '&language=en-US&page=' + page_number)\n",
    "    global movies\n",
    "    movies = response.json()\n",
    "    for i in range(0,len(movies['results'])):\n",
    "        amount_of_movies.append(movies['results'][i].get('title'))\n",
    "    global overview_length\n",
    "    overview_length = random.randint(0,len(amount_of_movies)-1)\n",
    "\n",
    "def getOverview():\n",
    "    return movies['results'][overview_length].get('overview')\n",
    "\n",
    "def getTitle():\n",
    "    return movies['results'][overview_length].get('title')\n",
    "\n",
    "def getReleasedate():\n",
    "    return movies['results'][overview_length].get('release_date')\n",
    "\n",
    "def getAverageRating():\n",
    "    return movies['results'][overview_length].get('vote_average')\n",
    "\n",
    "def getId():\n",
    "    return movies['results'][overview_length].get('id')\n",
    "\n",
    "def getGenre():\n",
    "    genres = []\n",
    "    all_genres = []\n",
    "    genre_names = []\n",
    "    api_key = 'ed49669e2301eefe165a22a0551c3496'\n",
    "    our_movie_genre_ids =  movies['results'][overview_length].get('genre_ids')\n",
    "    genre_response = requests.get('https://api.themoviedb.org/3/genre/movie/list?api_key=' +  api_key + '&language=en-US')\n",
    "    genre = genre_response.json()\n",
    "    for i in range(0,len(genre['genres'])):\n",
    "        all_genres.append(genre['genres'][i].get('id'))\n",
    "        genre_names.append(genre['genres'][i].get('name'))\n",
    "\n",
    "    for i in range(0,len(our_movie_genre_ids)):\n",
    "        for j in range(0,len(all_genres)):\n",
    "            if our_movie_genre_ids[i] == all_genres[j]:\n",
    "                genres.append(genre_names[j])\n",
    "    return genres\n",
    "\n",
    "#main function\n",
    "stop = True\n",
    "while stop:\n",
    "    if moviegenerator() == \" \":\n",
    "        pass\n",
    "    else:\n",
    "        print(\"Generating random movie\")\n",
    "        moviegenerator()\n",
    "        print(getOverview())\n",
    "        user_input = input(\"Does this movie sound interesting to you?\\nPlease type yes or no: \").lower()\n",
    "\n",
    "        while True:\n",
    "            if user_input == 'yes':\n",
    "                print(\"Title:\",getTitle())\n",
    "                print(\"Release Date (year-month-date):\",getReleasedate())\n",
    "                print(\"Genres:\",getGenre())\n",
    "                print(\"Average Rating (Based on user votes out of 10):\",getAverageRating())\n",
    "                stop = False\n",
    "                break\n",
    "            elif user_input == 'no':\n",
    "                break\n",
    "            else:\n",
    "                print(\"Invalid input. Please type yes or no: \")\n",
    "                user_input = input(\"Does this movie sound interesting to you? Please type yes or no: \").lower()\n"
   ]
  },
  {
   "cell_type": "code",
   "execution_count": null,
   "metadata": {},
   "outputs": [],
   "source": []
  }
 ],
 "metadata": {
  "kernelspec": {
   "display_name": "Python 3",
   "language": "python",
   "name": "python3"
  },
  "language_info": {
   "codemirror_mode": {
    "name": "ipython",
    "version": 3
   },
   "file_extension": ".py",
   "mimetype": "text/x-python",
   "name": "python",
   "nbconvert_exporter": "python",
   "pygments_lexer": "ipython3",
   "version": "3.6.6"
  }
 },
 "nbformat": 4,
 "nbformat_minor": 2
}
