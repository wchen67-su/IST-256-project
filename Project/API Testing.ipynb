{
 "cells": [
  {
   "cell_type": "code",
   "execution_count": 1,
   "metadata": {},
   "outputs": [],
   "source": [
    "import requests\n",
    "import pandas as pd\n",
    "import random\n",
    "from IPython.display import Markdown, display"
   ]
  },
  {
   "cell_type": "code",
   "execution_count": 8,
   "metadata": {},
   "outputs": [
    {
     "data": {
      "text/markdown": [
       "**Generating a movie description...**"
      ],
      "text/plain": [
       "<IPython.core.display.Markdown object>"
      ]
     },
     "metadata": {},
     "output_type": "display_data"
    },
    {
     "name": "stdout",
     "output_type": "stream",
     "text": [
      "1. In their quest to confront the ultimate evil, Percy and his friends battle swarms of mythical creatures to find the mythical Golden Fleece and to stop an ancient evil from rising.\n",
      "\n",
      "Does this movie sound interesting to you? Please type yes or no: no\n"
     ]
    },
    {
     "data": {
      "text/markdown": [
       "**Generating a movie description...**"
      ],
      "text/plain": [
       "<IPython.core.display.Markdown object>"
      ]
     },
     "metadata": {},
     "output_type": "display_data"
    },
    {
     "name": "stdout",
     "output_type": "stream",
     "text": [
      "2. Brian's mother dies and is surprised when he inherit's The Sanctuary, her controversial experimental treatment center for addictions. When he and his friends are shown around the dilapidated building by a mysterious employee, it is clear that there is a sinister mood. Despite this the group enters a secret underground passage and the terrible reality is revealed. Brian's mother had built a revolutionary machine that cured people of their addiction, but as a side effect to materialize the addictions in a mutated form of children who are addicted to human flesh which have moved into the building.\n",
      "\n",
      "Does this movie sound interesting to you? Please type yes or no: no\n"
     ]
    },
    {
     "data": {
      "text/markdown": [
       "**Generating a movie description...**"
      ],
      "text/plain": [
       "<IPython.core.display.Markdown object>"
      ]
     },
     "metadata": {},
     "output_type": "display_data"
    },
    {
     "name": "stdout",
     "output_type": "stream",
     "text": [
      "3. In 1919, in a small town under the crushing heat of summer, a war hero is held prisoner in an abandoned barracks. Outside, his mangy dog barks night and day. Not far off in the countryside, an extraordinarily intelligent young woman works the land, waiting and hoping. A judge whose principles have been sorely shaken by the war is coming to sort out this case of which it is better not to speak.\n",
      "\n",
      "Does this movie sound interesting to you? Please type yes or no: no\n"
     ]
    },
    {
     "data": {
      "text/markdown": [
       "**Generating a movie description...**"
      ],
      "text/plain": [
       "<IPython.core.display.Markdown object>"
      ]
     },
     "metadata": {},
     "output_type": "display_data"
    },
    {
     "name": "stdout",
     "output_type": "stream",
     "text": [
      "4. Solomon and Tummler are two teenagers killing time in Xenia, Ohio, a small town that has never recovered from the tornado that ravaged the community in the 1970s.\n",
      "\n",
      "Does this movie sound interesting to you? Please type yes or no: no\n"
     ]
    },
    {
     "data": {
      "text/markdown": [
       "**Generating a movie description...**"
      ],
      "text/plain": [
       "<IPython.core.display.Markdown object>"
      ]
     },
     "metadata": {},
     "output_type": "display_data"
    },
    {
     "name": "stdout",
     "output_type": "stream",
     "text": [
      "5. In a peaceful little clearing, the remains of a hastily abandoned picnic sparks a battle between two tribes of ants. A bold young ladybug finds himself caught in the middle. He befriends the leader of the black ants, Mandible, and helps him save the anthill from the assault of the terrible red ant warriors, led by the fearful Butor. A fantastic journey at ground level…\n",
      "\n",
      "Does this movie sound interesting to you? Please type yes or no: no\n"
     ]
    },
    {
     "data": {
      "text/markdown": [
       "**Generating a movie description...**"
      ],
      "text/plain": [
       "<IPython.core.display.Markdown object>"
      ]
     },
     "metadata": {},
     "output_type": "display_data"
    },
    {
     "name": "stdout",
     "output_type": "stream",
     "text": [
      "6. In this Janette Oke sequel to \"Love Comes Softly,\" the eldest child in an 1800s frontier family, Missie Davis is a bright and beautiful elementary schoolteacher whose love for the prairie is matched only by her passion for books. When Missie encounters Grant, a handsome New England railroad executive, she feels as though shes met a hero from one of her novels.\n",
      "\n",
      "Does this movie sound interesting to you? Please type yes or no: no\n"
     ]
    },
    {
     "data": {
      "text/markdown": [
       "**Generating a movie description...**"
      ],
      "text/plain": [
       "<IPython.core.display.Markdown object>"
      ]
     },
     "metadata": {},
     "output_type": "display_data"
    },
    {
     "name": "stdout",
     "output_type": "stream",
     "text": [
      "7. Ryden Malby has a master plan. Graduate college, get a great job, hang out with her best friend and find the perfect guy. But her plan spins hilariously out of control when she’s forced to move back home with her eccentric family.\n",
      "\n",
      "Does this movie sound interesting to you? Please type yes or no: no\n"
     ]
    },
    {
     "data": {
      "text/markdown": [
       "**Generating a movie description...**"
      ],
      "text/plain": [
       "<IPython.core.display.Markdown object>"
      ]
     },
     "metadata": {},
     "output_type": "display_data"
    },
    {
     "name": "stdout",
     "output_type": "stream",
     "text": [
      "8. Set during the last days of the Ottoman Empire, a love triangle develops between Mikael, a brilliant medical student, the beautiful and sophisticated artist Ana, and Chris, a renowned American journalist based in Paris.\n",
      "\n",
      "Does this movie sound interesting to you? Please type yes or no: no\n"
     ]
    },
    {
     "data": {
      "text/markdown": [
       "**Generating a movie description...**"
      ],
      "text/plain": [
       "<IPython.core.display.Markdown object>"
      ]
     },
     "metadata": {},
     "output_type": "display_data"
    },
    {
     "name": "stdout",
     "output_type": "stream",
     "text": [
      "9. Three friends who head the Social Committee in a frat house, called KOK (Kappa Omicron Kappa), are charged with stealing money their fraternity has been saving for a cocktail cruise at the end of the semester, the one that guarantees them a spot at a very high paying company.\n",
      "\n",
      "Does this movie sound interesting to you? Please type yes or no: no\n"
     ]
    },
    {
     "data": {
      "text/markdown": [
       "**Generating a movie description...**"
      ],
      "text/plain": [
       "<IPython.core.display.Markdown object>"
      ]
     },
     "metadata": {},
     "output_type": "display_data"
    },
    {
     "name": "stdout",
     "output_type": "stream",
     "text": [
      "10. A man entranced by his dreams and imagination is lovestruck with a French woman and feels he can show her his world.\n",
      "\n",
      "Does this movie sound interesting to you? Please type yes or no: no\n"
     ]
    },
    {
     "data": {
      "text/markdown": [
       "**Generating a movie description...**"
      ],
      "text/plain": [
       "<IPython.core.display.Markdown object>"
      ]
     },
     "metadata": {},
     "output_type": "display_data"
    },
    {
     "name": "stdout",
     "output_type": "stream",
     "text": [
      "11. Wayne gets a new rookie partner, Lanny, after his previous partner got the promotion he wanted. Lanny has to remind Wayne of the Spirit of Christmas and the importance of being an elf in Santa's Prep and Landing elite unit.\n",
      "\n",
      "Does this movie sound interesting to you? Please type yes or no: no\n"
     ]
    },
    {
     "data": {
      "text/markdown": [
       "**Generating a movie description...**"
      ],
      "text/plain": [
       "<IPython.core.display.Markdown object>"
      ]
     },
     "metadata": {},
     "output_type": "display_data"
    },
    {
     "name": "stdout",
     "output_type": "stream",
     "text": [
      "12. During a winter storm, Ursus offers shelter to two orphans, Gwynplaine and Déa; some years later, they are still living together. Gwynplaine has become a famous star, but his success threatens his relationships with Déa and Ursus.\n",
      "\n",
      "Does this movie sound interesting to you? Please type yes or no: no\n"
     ]
    },
    {
     "data": {
      "text/markdown": [
       "**Generating a movie description...**"
      ],
      "text/plain": [
       "<IPython.core.display.Markdown object>"
      ]
     },
     "metadata": {},
     "output_type": "display_data"
    },
    {
     "name": "stdout",
     "output_type": "stream",
     "text": [
      "13. Two girls have a chance encounter and instantly befriend. While trying to find themselves, they decide to pursue music together.\n",
      "\n",
      "Does this movie sound interesting to you? Please type yes or no: no\n"
     ]
    },
    {
     "data": {
      "text/markdown": [
       "**Generating a movie description...**"
      ],
      "text/plain": [
       "<IPython.core.display.Markdown object>"
      ]
     },
     "metadata": {},
     "output_type": "display_data"
    },
    {
     "name": "stdout",
     "output_type": "stream",
     "text": [
      "14. The Young Lions follows the lives of three soldiers: one German and two Americans, paralleling their experiences in World War II until they meet up at the end for a confrontation\n",
      "\n",
      "Does this movie sound interesting to you? Please type yes or no: no\n"
     ]
    },
    {
     "data": {
      "text/markdown": [
       "**Generating a movie description...**"
      ],
      "text/plain": [
       "<IPython.core.display.Markdown object>"
      ]
     },
     "metadata": {},
     "output_type": "display_data"
    },
    {
     "name": "stdout",
     "output_type": "stream",
     "text": [
      "15. Jakob, an 18-year-old boy, comes back to Frankfurt after he left after his mothers death one year ago. While trying to sort his life he meets a Polish Au-Pair, Wanda, and falls in love with her. But there are several disappointments on both sides...\n",
      "\n",
      "Does this movie sound interesting to you? Please type yes or no: no\n"
     ]
    },
    {
     "data": {
      "text/markdown": [
       "**Generating a movie description...**"
      ],
      "text/plain": [
       "<IPython.core.display.Markdown object>"
      ]
     },
     "metadata": {},
     "output_type": "display_data"
    },
    {
     "name": "stdout",
     "output_type": "stream",
     "text": [
      "16. The Justice League faces a powerful new threat — the Fatal Five! Superman, Batman and Wonder Woman seek answers as the time-traveling trio of Mano, Persuader and Tharok terrorize Metropolis in search of budding Green Lantern, Jessica Cruz. With her unwilling help, they aim to free remaining Fatal Five members Emerald Empress and Validus to carry out their sinister plan. But the Justice League has also discovered an ally from another time in the peculiar Star Boy — brimming with volatile power, could he be the key to thwarting the Fatal Five? An epic battle against ultimate evil awaits!\n",
      "\n",
      "Does this movie sound interesting to you? Please type yes or no: no\n"
     ]
    },
    {
     "data": {
      "text/markdown": [
       "**Generating a movie description...**"
      ],
      "text/plain": [
       "<IPython.core.display.Markdown object>"
      ]
     },
     "metadata": {},
     "output_type": "display_data"
    },
    {
     "name": "stdout",
     "output_type": "stream",
     "text": [
      "17. Dr. Malcolm Sayer, a shy research physician, uses an experimental drug to \"awaken\" the catatonic victims of a rare disease. Leonard is the first patient to receive the controversial treatment. His awakening, filled with awe and enthusiasm, proves a rebirth for Sayer too, as the exuberant patient reveals life's simple but unutterably sweet pleasures to the introverted doctor.\n",
      "\n",
      "Does this movie sound interesting to you? Please type yes or no: no\n"
     ]
    },
    {
     "data": {
      "text/markdown": [
       "**Generating a movie description...**"
      ],
      "text/plain": [
       "<IPython.core.display.Markdown object>"
      ]
     },
     "metadata": {},
     "output_type": "display_data"
    },
    {
     "name": "stdout",
     "output_type": "stream",
     "text": [
      "18. Thirty-year-old Ben is about to marry Juliette. His quiet, ordered life will fall to pieces when he meets up again with the person he secretly wants to see the most: Vanessa, the high school bombshell who never so much as looked in his direction.  She's back in Paris, and the only person she now knows is him…\n",
      "\n",
      "Does this movie sound interesting to you? Please type yes or no: no\n"
     ]
    },
    {
     "data": {
      "text/markdown": [
       "**Generating a movie description...**"
      ],
      "text/plain": [
       "<IPython.core.display.Markdown object>"
      ]
     },
     "metadata": {},
     "output_type": "display_data"
    },
    {
     "name": "stdout",
     "output_type": "stream",
     "text": [
      "19. A freshman on campus discovers that the only way to be admitted into the sorority of her dreams is to seduce a nerdy introverted guy and film it. When the sorority \"prank\" goes viral, the boy is discovered dead from apparent suicide, but his sister does not buy it. She goes under cover to expose the sororities' hidden secrets.\n",
      "\n",
      "Does this movie sound interesting to you? Please type yes or no: no\n"
     ]
    },
    {
     "data": {
      "text/markdown": [
       "**Generating a movie description...**"
      ],
      "text/plain": [
       "<IPython.core.display.Markdown object>"
      ]
     },
     "metadata": {},
     "output_type": "display_data"
    },
    {
     "name": "stdout",
     "output_type": "stream",
     "text": [
      "20. Self-made millionaire Thornton Melon decides to get a better education and enrolls at his son Jason's college. While Jason tries to fit in with his fellow students, Thornton struggles to gain his son's respect, giving way to hilarious antics.\n",
      "\n",
      "Does this movie sound interesting to you? Please type yes or no: no\n"
     ]
    },
    {
     "data": {
      "text/markdown": [
       "**Generating a movie description...**"
      ],
      "text/plain": [
       "<IPython.core.display.Markdown object>"
      ]
     },
     "metadata": {},
     "output_type": "display_data"
    },
    {
     "name": "stdout",
     "output_type": "stream",
     "text": [
      "21. Connie Doyle is eighteen and pregnant her boyfriend has kicked her out. She accidentaly ends up on a train where she meets Hugh Winterbourne and his wife Patricia who is pregnant. The train wrecks and she wakes up in the hosptial to find out that it's been assumed that she's Patricia. Hugh's mother takes her in and she falls in love with Hugh's brother Bill. Just when she thinks everything is going her way, her ex-boyfriend shows up.\n",
      "\n",
      "Does this movie sound interesting to you? Please type yes or no: no\n"
     ]
    },
    {
     "data": {
      "text/markdown": [
       "**Generating a movie description...**"
      ],
      "text/plain": [
       "<IPython.core.display.Markdown object>"
      ]
     },
     "metadata": {},
     "output_type": "display_data"
    },
    {
     "name": "stdout",
     "output_type": "stream",
     "text": [
      "22. Orphaned after a Nazi air raid, Paulette, a young Parisian girl, runs into Michel, an older peasant boy, and the two quickly become close. Together, they try to make sense of the chaotic and crumbling world around them, attempting to cope with death as they create a burial ground for Paulette's deceased pet dog. Eventually, however, Paulette's stay with Michel's family is threatened by the harsh realities of wartime.\n",
      "\n",
      "Does this movie sound interesting to you? Please type yes or no: no\n"
     ]
    },
    {
     "data": {
      "text/markdown": [
       "**Generating a movie description...**"
      ],
      "text/plain": [
       "<IPython.core.display.Markdown object>"
      ]
     },
     "metadata": {},
     "output_type": "display_data"
    },
    {
     "name": "stdout",
     "output_type": "stream",
     "text": [
      "23. A comedic biopic focused on the life of fictional jazz guitarist Emmett Ray. Ray was an irresponsible, free-spending, arrogant, obnoxious, alcohol-abusing, miserable human being, who was also arguably the best guitarist in the world.\n",
      "\n",
      "Does this movie sound interesting to you? Please type yes or no: no\n"
     ]
    },
    {
     "data": {
      "text/markdown": [
       "**Generating a movie description...**"
      ],
      "text/plain": [
       "<IPython.core.display.Markdown object>"
      ]
     },
     "metadata": {},
     "output_type": "display_data"
    },
    {
     "name": "stdout",
     "output_type": "stream",
     "text": [
      "24. Set in the Mayan civilization, when a man's idyllic presence is brutally disrupted by a violent invading force, he is taken on a perilous journey to a world ruled by fear and oppression where a harrowing end awaits him. Through a twist of fate and spurred by the power of his love for his woman and his family he will make a desperate break to return home and to ultimately save his way of life.\n",
      "\n",
      "Does this movie sound interesting to you? Please type yes or no: no\n"
     ]
    },
    {
     "data": {
      "text/markdown": [
       "**Generating a movie description...**"
      ],
      "text/plain": [
       "<IPython.core.display.Markdown object>"
      ]
     },
     "metadata": {},
     "output_type": "display_data"
    },
    {
     "name": "stdout",
     "output_type": "stream",
     "text": [
      "25. A tight-knit group of New York City street dancers, including Luke and Natalie, team up with NYU freshman Moose, and find themselves pitted against the world's best hip hop dancers in a high-stakes showdown that will change their lives forever.\n",
      "\n",
      "Does this movie sound interesting to you? Please type yes or no: no\n"
     ]
    },
    {
     "data": {
      "text/markdown": [
       "**Generating a movie description...**"
      ],
      "text/plain": [
       "<IPython.core.display.Markdown object>"
      ]
     },
     "metadata": {},
     "output_type": "display_data"
    },
    {
     "name": "stdout",
     "output_type": "stream",
     "text": [
      "26. When Anna Parisi, an unemployed fine arts painter, is unable to make ends meet, she is hired to become a personal Christmas shopper for Marc, an uptight corporate exec.  As they begin working together, Marc learns that Christmas giving has less to do with the amount of money spent and more to do with the importance of the gift, while Anna discovers she might find success as an artist in a way she never expected.  The best gift of all of course is the love they discover with one another.\n",
      "\n",
      "Does this movie sound interesting to you? Please type yes or no: no\n"
     ]
    },
    {
     "data": {
      "text/markdown": [
       "**Generating a movie description...**"
      ],
      "text/plain": [
       "<IPython.core.display.Markdown object>"
      ]
     },
     "metadata": {},
     "output_type": "display_data"
    },
    {
     "name": "stdout",
     "output_type": "stream",
     "text": [
      "27. In the third and final episode of the trilogy, Fantômas imposes a head tax on the rich, threatening to kill those who do not comply.\n",
      "\n",
      "Does this movie sound interesting to you? Please type yes or no: no\n"
     ]
    },
    {
     "data": {
      "text/markdown": [
       "**Generating a movie description...**"
      ],
      "text/plain": [
       "<IPython.core.display.Markdown object>"
      ]
     },
     "metadata": {},
     "output_type": "display_data"
    },
    {
     "name": "stdout",
     "output_type": "stream",
     "text": [
      "28. The story is set at the times of Peter the Great’s reforms. At those times when an emerging empire was wreaking havoc on provincial medievalism. The times were the melting pot of everything – of beliefs and of nations. The history of Russian Asia was made by captive Swedes, outlanders, Bokharan merchants, civil servants and officers, convicts, architects and chroniclers, Chinese smugglers, shamans and escaped dissenters, Orthodox missionaries and warlike steppe-dwellers Jungars.\n",
      "\n",
      "Does this movie sound interesting to you? Please type yes or no: no\n"
     ]
    },
    {
     "data": {
      "text/markdown": [
       "**Generating a movie description...**"
      ],
      "text/plain": [
       "<IPython.core.display.Markdown object>"
      ]
     },
     "metadata": {},
     "output_type": "display_data"
    },
    {
     "name": "stdout",
     "output_type": "stream",
     "text": [
      "29. During the 70's, some Komodo Dragon eggs were dumped on an North Carolina island. Somehow, the baby Komodos survived, and twenty years later they have grown up and taken over the island for themselves. Young Patrick has lost his parents and his dog to the lizards, but didn't see them himself, which has left him traumatized. Now, with his therapist Victoria, they return to confront his fears.\n",
      "\n",
      "Does this movie sound interesting to you? Please type yes or no: no\n"
     ]
    },
    {
     "data": {
      "text/markdown": [
       "**Generating a movie description...**"
      ],
      "text/plain": [
       "<IPython.core.display.Markdown object>"
      ]
     },
     "metadata": {},
     "output_type": "display_data"
    },
    {
     "name": "stdout",
     "output_type": "stream",
     "text": [
      "30. A father reminisces about his childhood when he and his younger brother moved to a new town with their mother, her new husband and their dog, Shane. When the younger brother is subjected to physical abuse at the hands of their brutal stepfather, Mike decides to convert their toy trolley, the \"Radio Flyer\", into a plane to fly him to safety.\n",
      "\n",
      "Does this movie sound interesting to you? Please type yes or no: no\n"
     ]
    },
    {
     "data": {
      "text/markdown": [
       "**Generating a movie description...**"
      ],
      "text/plain": [
       "<IPython.core.display.Markdown object>"
      ]
     },
     "metadata": {},
     "output_type": "display_data"
    },
    {
     "name": "stdout",
     "output_type": "stream",
     "text": [
      "31. Young-goon, mentally deranged and frequently electro-charging herself with a transistor radio, has been admitted into a mental institution. Firmly believing herself to be a cyborg, she refuses to consume like a human being. Il-soon is another patient, who catches the eye of Young-goon and soon becomes a close friend. Il-soon is now confronted with the biggest task - to cure Young-goon’s mental problem and have her eat real food.\n",
      "\n",
      "Does this movie sound interesting to you? Please type yes or no: no\n"
     ]
    },
    {
     "data": {
      "text/markdown": [
       "**Generating a movie description...**"
      ],
      "text/plain": [
       "<IPython.core.display.Markdown object>"
      ]
     },
     "metadata": {},
     "output_type": "display_data"
    },
    {
     "name": "stdout",
     "output_type": "stream",
     "text": [
      "32. Director and Israeli army veteran Ari Folman interviews friends and former soldiers about their memories of  the 1982 Lebanon war and especially the Sabra and Shatila massacre in Beirut. The usage on animation enabled Folman to illustrate their personal memories and dreams.\n",
      "\n",
      "Does this movie sound interesting to you? Please type yes or no: no\n"
     ]
    },
    {
     "data": {
      "text/markdown": [
       "**Generating a movie description...**"
      ],
      "text/plain": [
       "<IPython.core.display.Markdown object>"
      ]
     },
     "metadata": {},
     "output_type": "display_data"
    },
    {
     "name": "stdout",
     "output_type": "stream",
     "text": [
      "33. Looking for a brighter future in metropolitan Manila, Oscar Ramirez and his family leave their miserable life in the rice terraces of Banaue, in the northern Philippines. In the sweltering capital, where all kind of perils lurk in every corner, Oscar catches a lucky break when he is offered a steady work for an armored truck company and the senior officer Ong takes him under his wing.\n",
      "\n",
      "Does this movie sound interesting to you? Please type yes or no: no\n"
     ]
    },
    {
     "data": {
      "text/markdown": [
       "**Generating a movie description...**"
      ],
      "text/plain": [
       "<IPython.core.display.Markdown object>"
      ]
     },
     "metadata": {},
     "output_type": "display_data"
    },
    {
     "name": "stdout",
     "output_type": "stream",
     "text": [
      "34. Gilbert has to care for his brother Arnie and his obese mother, which gets in the way when love walks into his life.\n",
      "\n",
      "Does this movie sound interesting to you? Please type yes or no: no\n"
     ]
    },
    {
     "data": {
      "text/markdown": [
       "**Generating a movie description...**"
      ],
      "text/plain": [
       "<IPython.core.display.Markdown object>"
      ]
     },
     "metadata": {},
     "output_type": "display_data"
    },
    {
     "name": "stdout",
     "output_type": "stream",
     "text": [
      "35. The Cove tells the amazing true story of how an elite team of individuals, films makers and free divers embarked on a covert mission to penetrate the hidden cove in Japan, shining light on a dark and deadly secret. The shocking discoveries were only the tip of the iceberg.\n",
      "\n",
      "Does this movie sound interesting to you? Please type yes or no: no\n"
     ]
    },
    {
     "data": {
      "text/markdown": [
       "**Generating a movie description...**"
      ],
      "text/plain": [
       "<IPython.core.display.Markdown object>"
      ]
     },
     "metadata": {},
     "output_type": "display_data"
    },
    {
     "name": "stdout",
     "output_type": "stream",
     "text": [
      "36. The sixth film in the \"Terminator\" series will pick up where the second film left off, ignoring all the subsequent sequels.\n",
      "\n",
      "Does this movie sound interesting to you? Please type yes or no: no\n"
     ]
    },
    {
     "data": {
      "text/markdown": [
       "**Generating a movie description...**"
      ],
      "text/plain": [
       "<IPython.core.display.Markdown object>"
      ]
     },
     "metadata": {},
     "output_type": "display_data"
    },
    {
     "name": "stdout",
     "output_type": "stream",
     "text": [
      "37. Timmy Robinson's best friend in the whole wide world is a six-foot tall rotting zombie named Fido. But when Fido eats the next-door neighbor, Mom and Dad hit the roof, and Timmy has to go to the ends of the earth to keep Fido a part of the family. A boy-and-his-dog movie for grown ups, \"Fido\" will rip your heart out.\n",
      "\n",
      "Does this movie sound interesting to you? Please type yes or no: no\n"
     ]
    },
    {
     "data": {
      "text/markdown": [
       "**Generating a movie description...**"
      ],
      "text/plain": [
       "<IPython.core.display.Markdown object>"
      ]
     },
     "metadata": {},
     "output_type": "display_data"
    },
    {
     "name": "stdout",
     "output_type": "stream",
     "text": [
      "38. Three escaped criminals from the planet Krypton test the Man of Steel's mettle. Led by Gen. Zod, the Kryptonians take control of the White House and partner with Lex Luthor to destroy Superman and rule the world. But Superman, who attempts to make himself human in order to get closer to Lois, realizes he has a responsibility to save the planet.\n",
      "\n",
      "Does this movie sound interesting to you? Please type yes or no: no\n"
     ]
    },
    {
     "data": {
      "text/markdown": [
       "**Generating a movie description...**"
      ],
      "text/plain": [
       "<IPython.core.display.Markdown object>"
      ]
     },
     "metadata": {},
     "output_type": "display_data"
    },
    {
     "name": "stdout",
     "output_type": "stream",
     "text": [
      "39. A look at the evolution of Albert Einstein's theory of relativity, and Einstein's relationship with British scientist Sir Arthur Eddington, the first physicist to understand his ideas.\n",
      "\n",
      "Does this movie sound interesting to you? Please type yes or no: no\n"
     ]
    },
    {
     "data": {
      "text/markdown": [
       "**Generating a movie description...**"
      ],
      "text/plain": [
       "<IPython.core.display.Markdown object>"
      ]
     },
     "metadata": {},
     "output_type": "display_data"
    },
    {
     "name": "stdout",
     "output_type": "stream",
     "text": [
      "40. When a romance between a widow and a notorious libertine takes an unexpected turn, Mademoiselle de Joncquières becomes instrumental to one lover’s plans for revenge.\n",
      "\n",
      "Does this movie sound interesting to you? Please type yes or no: no\n"
     ]
    },
    {
     "data": {
      "text/markdown": [
       "**Generating a movie description...**"
      ],
      "text/plain": [
       "<IPython.core.display.Markdown object>"
      ]
     },
     "metadata": {},
     "output_type": "display_data"
    },
    {
     "name": "stdout",
     "output_type": "stream",
     "text": [
      "41. Jack Casey ('Kevin Bacon' )used to be a hot-shot stock market whiz kid. After a disastrous professional decision, his life in the fast lane is over. He loses his nerve and joins a speed delivery firm which relies on bicycles to avoid traffic jams of San Francisco, is attracted to a fellow bicycler, Terri, and befriends Hector, a budding entrepreneur. Can Jack regain his nerve and his self-respect, and rebuild his life on a more sound basis?\n",
      "\n",
      "Does this movie sound interesting to you? Please type yes or no: no\n"
     ]
    },
    {
     "data": {
      "text/markdown": [
       "**Generating a movie description...**"
      ],
      "text/plain": [
       "<IPython.core.display.Markdown object>"
      ]
     },
     "metadata": {},
     "output_type": "display_data"
    },
    {
     "name": "stdout",
     "output_type": "stream",
     "text": [
      "42. What starts as a poignant medical documentary about Deborah Logan's descent into Alzheimer's disease and her daughter's struggles as caregiver degenerates into a maddening portrayal of dementia at its most frightening, as hair-raising events begin to plague the family and crew and an unspeakable malevolence threatens to tear the very fabric of sanity from them all.\n",
      "\n",
      "Does this movie sound interesting to you? Please type yes or no: no\n"
     ]
    },
    {
     "data": {
      "text/markdown": [
       "**Generating a movie description...**"
      ],
      "text/plain": [
       "<IPython.core.display.Markdown object>"
      ]
     },
     "metadata": {},
     "output_type": "display_data"
    },
    {
     "name": "stdout",
     "output_type": "stream",
     "text": [
      "43. The story of the romance between the King of Siam (now Thailand) and the widowed British school teacher Anna Leonowens during the 1860s. Anna teaches the children and becomes romanced by the King. She convinces him that a man can be loved by just one woman.\n",
      "\n",
      "Does this movie sound interesting to you? Please type yes or no: yes\n"
     ]
    },
    {
     "data": {
      "text/markdown": [
       "**Retrieving movie details...**"
      ],
      "text/plain": [
       "<IPython.core.display.Markdown object>"
      ]
     },
     "metadata": {},
     "output_type": "display_data"
    },
    {
     "data": {
      "text/markdown": [
       "**Title:** Anna and the King"
      ],
      "text/plain": [
       "<IPython.core.display.Markdown object>"
      ]
     },
     "metadata": {},
     "output_type": "display_data"
    },
    {
     "data": {
      "text/markdown": [
       "**Release Date (year-month-date):** 1999-12-16"
      ],
      "text/plain": [
       "<IPython.core.display.Markdown object>"
      ]
     },
     "metadata": {},
     "output_type": "display_data"
    },
    {
     "data": {
      "text/markdown": [
       "**Genres:** ['Drama', 'History', 'Romance']"
      ],
      "text/plain": [
       "<IPython.core.display.Markdown object>"
      ]
     },
     "metadata": {},
     "output_type": "display_data"
    },
    {
     "data": {
      "text/markdown": [
       "**Average Rating (Based on user votes out of 10):** 6.7"
      ],
      "text/plain": [
       "<IPython.core.display.Markdown object>"
      ]
     },
     "metadata": {},
     "output_type": "display_data"
    }
   ],
   "source": [
    "page_number = 0\n",
    "overview_length = 0\n",
    "movies = 0\n",
    "count = 1\n",
    "\n",
    "def printbold(string):\n",
    "    display(Markdown(string))\n",
    "    \n",
    "def moviegenerator():\n",
    "    amount_of_movies = []\n",
    "    global page_number\n",
    "    page_number = str(random.randint(0,1000))\n",
    "    api_key = 'ed49669e2301eefe165a22a0551c3496'\n",
    "    response = requests.get('https://api.themoviedb.org/3/movie/popular?api_key=' +  api_key + '&language=en-US&page=' + page_number)\n",
    "    global movies\n",
    "    movies = response.json()\n",
    "    for i in range(0,len(movies['results'])):\n",
    "        amount_of_movies.append(movies['results'][i].get('title'))\n",
    "    global overview_length\n",
    "    overview_length = random.randint(0,len(amount_of_movies)-1)\n",
    "\n",
    "def getOverview():\n",
    "    return movies['results'][overview_length].get('overview')\n",
    "\n",
    "def getTitle():\n",
    "    return movies['results'][overview_length].get('title')\n",
    "\n",
    "def getReleasedate():\n",
    "    return movies['results'][overview_length].get('release_date')\n",
    "\n",
    "def getAverageRating():\n",
    "    return movies['results'][overview_length].get('vote_average')\n",
    "\n",
    "def getId():\n",
    "    return movies['results'][overview_length].get('id')\n",
    "\n",
    "def getGenre():\n",
    "    genres = []\n",
    "    all_genres = []\n",
    "    genre_names = []\n",
    "    api_key = 'ed49669e2301eefe165a22a0551c3496'\n",
    "    our_movie_genre_ids =  movies['results'][overview_length].get('genre_ids')\n",
    "    genre_response = requests.get('https://api.themoviedb.org/3/genre/movie/list?api_key=' +  api_key + '&language=en-US')\n",
    "    genre = genre_response.json()\n",
    "    for i in range(0,len(genre['genres'])):\n",
    "        all_genres.append(genre['genres'][i].get('id'))\n",
    "        genre_names.append(genre['genres'][i].get('name'))\n",
    "\n",
    "    for i in range(0,len(our_movie_genre_ids)):\n",
    "        for j in range(0,len(all_genres)):\n",
    "            if our_movie_genre_ids[i] == all_genres[j]:\n",
    "                genres.append(genre_names[j])\n",
    "    return genres\n",
    "\n",
    "#main function\n",
    "stop = True\n",
    "while stop:\n",
    "    moviegenerator()\n",
    "    while getOverview() == ' ':\n",
    "        moviegenerator()\n",
    "    printbold('**Generating a movie description...**')\n",
    "    print(str(count)+'.', getOverview()+'\\n')\n",
    "    user_input = input(\"Does this movie sound interesting to you? Please type yes or no: \").lower()\n",
    "\n",
    "    while True:\n",
    "        if user_input == 'yes':\n",
    "            printbold('**Retrieving movie details...**')\n",
    "            printbold(\"**Title:**\" + ' ' + getTitle())\n",
    "            printbold(\"**Release Date (year-month-date):**\" + ' ' + getReleasedate())\n",
    "            printbold(\"**Genres:**\" + ' ' + str(getGenre()))\n",
    "            printbold(\"**Average Rating (Based on user votes out of 10):**\" + ' ' + str(getAverageRating()))\n",
    "            stop = False\n",
    "            break\n",
    "        elif user_input == 'no':\n",
    "            count = count + 1\n",
    "            break\n",
    "        else:\n",
    "            print(\"Invalid input. Please type yes or no: \")\n",
    "            user_input = input(\"Does this movie sound interesting to you? Please type yes or no: \").lower()"
   ]
  },
  {
   "cell_type": "code",
   "execution_count": null,
   "metadata": {},
   "outputs": [],
   "source": []
  }
 ],
 "metadata": {
  "kernelspec": {
   "display_name": "Python 3",
   "language": "python",
   "name": "python3"
  },
  "language_info": {
   "codemirror_mode": {
    "name": "ipython",
    "version": 3
   },
   "file_extension": ".py",
   "mimetype": "text/x-python",
   "name": "python",
   "nbconvert_exporter": "python",
   "pygments_lexer": "ipython3",
   "version": "3.6.6"
  }
 },
 "nbformat": 4,
 "nbformat_minor": 2
}
