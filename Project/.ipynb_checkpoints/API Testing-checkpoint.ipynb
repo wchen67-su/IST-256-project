{
 "cells": [
  {
   "cell_type": "code",
   "execution_count": 130,
   "metadata": {},
   "outputs": [],
   "source": [
    "import requests\n",
    "import pandas as pd\n",
    "import random\n",
    "from IPython.display import Markdown, display"
   ]
  },
  {
   "cell_type": "code",
   "execution_count": 119,
   "metadata": {},
   "outputs": [
    {
     "name": "stdout",
     "output_type": "stream",
     "text": [
      "<function getmovieid at 0x000001529E0DF9D8>\n"
     ]
    }
   ],
   "source": [
    "def getmovieid():\n",
    "    all_movie_ids = []\n",
    "    api_key = 'ed49669e2301eefe165a22a0551c3496'\n",
    "    response = requests.get('https://api.themoviedb.org/3/movie/popular?api_key=' +  api_key + '&language=en-US&page=' + page_number)\n",
    "    movies = response.json()\n",
    "    for i in range(0,len(movies['results'])):\n",
    "        all_movie_ids.append(movies['results'][i].get('id'))  \n",
    "    movie_id = all_movie_ids[overview_length]\n",
    "    return movie_id"
   ]
  },
  {
   "cell_type": "code",
   "execution_count": 166,
   "metadata": {},
   "outputs": [
    {
     "data": {
      "text/markdown": [
       "**Generating a movie description...**"
      ],
      "text/plain": [
       "<IPython.core.display.Markdown object>"
      ]
     },
     "metadata": {},
     "output_type": "display_data"
    },
    {
     "name": "stdout",
     "output_type": "stream",
     "text": [
      "1. In war-torn Japan, the Tokugawa Shogun, desperate to restore peace to his people, orders the assassination of the hostile warlords. A beautiful young woman is raised from birth with nine other orphans, to become an assassin. Her name is Azumi, the ultimate assassin.\n",
      "\n",
      "Does this movie sound interesting to you? Please type yes or no: yes\n"
     ]
    },
    {
     "data": {
      "text/markdown": [
       "**Retrieving movie details...**"
      ],
      "text/plain": [
       "<IPython.core.display.Markdown object>"
      ]
     },
     "metadata": {},
     "output_type": "display_data"
    },
    {
     "data": {
      "text/markdown": [
       "**Title:** Azumi"
      ],
      "text/plain": [
       "<IPython.core.display.Markdown object>"
      ]
     },
     "metadata": {},
     "output_type": "display_data"
    },
    {
     "data": {
      "text/markdown": [
       "**Release Date (year-month-date):** 2003-05-10"
      ],
      "text/plain": [
       "<IPython.core.display.Markdown object>"
      ]
     },
     "metadata": {},
     "output_type": "display_data"
    },
    {
     "data": {
      "text/markdown": [
       "**Genres:** ['Adventure', 'Drama', 'Action', 'Thriller', 'Romance']"
      ],
      "text/plain": [
       "<IPython.core.display.Markdown object>"
      ]
     },
     "metadata": {},
     "output_type": "display_data"
    },
    {
     "data": {
      "text/markdown": [
       "**Average Rating (Based on user votes out of 10):** 6.6"
      ],
      "text/plain": [
       "<IPython.core.display.Markdown object>"
      ]
     },
     "metadata": {},
     "output_type": "display_data"
    }
   ],
   "source": [
    "page_number = 0\n",
    "overview_length = 0\n",
    "count = 1\n",
    "\n",
    "def printbold(string):\n",
    "    display(Markdown(string))\n",
    "    \n",
    "def moviegenerator():\n",
    "    overview = []\n",
    "    global page_number\n",
    "    page_number = str(random.randint(0,1000))\n",
    "    api_key = 'ed49669e2301eefe165a22a0551c3496'\n",
    "    response = requests.get('https://api.themoviedb.org/3/movie/popular?api_key=' +  api_key + '&language=en-US&page=' + page_number)\n",
    "    movies = response.json()\n",
    "    for i in range(0,len(movies['results'])):\n",
    "        overview.append(movies['results'][i].get('overview'))\n",
    "    global overview_length\n",
    "    overview_length = random.randint(0,len(overview)-1)\n",
    "    random_overview = overview[overview_length]\n",
    "    return random_overview\n",
    "\n",
    "def getgenre():\n",
    "    genre_id = []\n",
    "    genres = []\n",
    "    all_genres = []\n",
    "    genre_names = []\n",
    "    api_key = 'ed49669e2301eefe165a22a0551c3496'\n",
    "    response = requests.get('https://api.themoviedb.org/3/movie/popular?api_key=' +  api_key + '&language=en-US&page=' + page_number)\n",
    "    movies = response.json()\n",
    "    for i in range(0,len(movies['results'])):\n",
    "        genre_id.append(movies['results'][i].get('genre_ids'))\n",
    "    movie_id = genre_id[overview_length]\n",
    "    genre_response = requests.get('https://api.themoviedb.org/3/genre/movie/list?api_key=' +  api_key + '&language=en-US')\n",
    "    genre = genre_response.json()\n",
    "    for i in range(0,len(genre['genres'])):\n",
    "        all_genres.append(genre['genres'][i].get('id'))\n",
    "        genre_names.append(genre['genres'][i].get('name'))\n",
    "\n",
    "    for i in range(0,len(movie_id)):\n",
    "        for j in range(0,len(all_genres)):\n",
    "            if movie_id[i] == all_genres[j]:\n",
    "                genres.append(genre_names[j])\n",
    "    return genres\n",
    "\n",
    "def gettitle():\n",
    "    all_titles = []\n",
    "    api_key = 'ed49669e2301eefe165a22a0551c3496'\n",
    "    response = requests.get('https://api.themoviedb.org/3/movie/popular?api_key=' +  api_key + '&language=en-US&page=' + page_number)\n",
    "    movies = response.json()\n",
    "    for i in range(0,len(movies['results'])):\n",
    "        all_titles.append(movies['results'][i].get('title'))        \n",
    "    movie_title = all_titles[overview_length]   \n",
    "    return movie_title\n",
    "\n",
    "def getreleasedate():\n",
    "    all_release_dates = []\n",
    "    api_key = 'ed49669e2301eefe165a22a0551c3496'\n",
    "    response = requests.get('https://api.themoviedb.org/3/movie/popular?api_key=' +  api_key + '&language=en-US&page=' + page_number)\n",
    "    movies = response.json()\n",
    "    for i in range(0,len(movies['results'])):\n",
    "        all_release_dates.append(movies['results'][i].get('release_date'))  \n",
    "    release_date = all_release_dates[overview_length]\n",
    "    return release_date\n",
    "\n",
    "def getuseraveragerating():\n",
    "    all_average_ratings = []\n",
    "    api_key = 'ed49669e2301eefe165a22a0551c3496'\n",
    "    response = requests.get('https://api.themoviedb.org/3/movie/popular?api_key=' +  api_key + '&language=en-US&page=' + page_number)\n",
    "    movies = response.json()\n",
    "    for i in range(0,len(movies['results'])):\n",
    "        all_average_ratings.append(movies['results'][i].get('vote_average'))\n",
    "    average_rating = all_average_ratings[overview_length]\n",
    "    return average_rating\n",
    "\n",
    "def getmovieid():\n",
    "    all_movie_ids = []\n",
    "    api_key = 'ed49669e2301eefe165a22a0551c3496'\n",
    "    response = requests.get('https://api.themoviedb.org/3/movie/popular?api_key=' +  api_key + '&language=en-US&page=' + page_number)\n",
    "    movies = response.json()\n",
    "    for i in range(0,len(movies['results'])):\n",
    "        all_movie_ids.append(movies['results'][i].get('id'))  \n",
    "    movie_id = all_movie_ids[overview_length]\n",
    "    return movie_id\n",
    "\n",
    "stop = True\n",
    "while stop:\n",
    "    printbold('**Generating a movie description...**')\n",
    "    print(str(count)+'.', moviegenerator()+'\\n')\n",
    "    user_input = input(\"Does this movie sound interesting to you? Please type yes or no: \").lower()\n",
    "\n",
    "    while True:\n",
    "        if user_input == 'yes':\n",
    "            printbold('**Retrieving movie details...**')\n",
    "            printbold(\"**Title:**\" + ' ' + gettitle()),print(end='')\n",
    "            printbold(\"**Release Date (year-month-date):**\" + ' ' + getreleasedate())\n",
    "            printbold(\"**Genres:**\" + ' ' + str(getgenre()))\n",
    "            printbold(\"**Average Rating (Based on user votes out of 10):**\" + ' ' + str(getuseraveragerating()))\n",
    "            stop = False\n",
    "            break\n",
    "        elif user_input == 'no':\n",
    "            count = count + 1 \n",
    "            break\n",
    "        else:\n",
    "            print(\"Invalid input. Please type yes or no: \")\n",
    "            user_input = input(\"Does this movie sound interesting to you? Please type yes or no: \").lower()"
   ]
  },
  {
   "cell_type": "code",
   "execution_count": null,
   "metadata": {},
   "outputs": [],
   "source": [
    "def moviegenerator():\n",
    "    overview = []\n",
    "    global page_number\n",
    "    page_number = str(random.randint(0,1000))\n",
    "    api_key = 'ed49669e2301eefe165a22a0551c3496'\n",
    "    response = requests.get('https://api.themoviedb.org/3/movie/popular?api_key=' +  api_key + '&language=en-US&page=' + page_number)\n",
    "    movies = response.json()\n",
    "    for i in range(0,len(movies['results'])):\n",
    "        overview.append(movies['results'][i].get('overview'))\n",
    "    global overview_length\n",
    "    overview_length = random.randint(0,len(overview)-1)\n",
    "    random_overview = overview[overview_length]\n",
    "    return random_overview"
   ]
  },
  {
   "cell_type": "code",
   "execution_count": null,
   "metadata": {},
   "outputs": [],
   "source": [
    "def numbergenerator():\n",
    "    global page_number\n",
    "    page_number = str(random.randint(0,1000))\n",
    "    \n",
    "def overview():\n",
    "    global overview_length\n",
    "    overview_length = random.randint(0,len(all_descriptions)-1)\n",
    "    \n",
    "def getdescription():\n",
    "    all_descriptions = []\n",
    "    api_key = 'ed49669e2301eefe165a22a0551c3496'\n",
    "    response = requests.get('https://api.themoviedb.org/3/movie/popular?api_key=' +  api_key + '&language=en-US&page=' + page_number)\n",
    "    movies = response.json()\n",
    "    for i in range(0,len(movies['results'])):\n",
    "        all_descriptions.append(movies['results'][i].get('overview'))\n",
    "    description = all_descriptions[overview_length]\n",
    "    return description"
   ]
  }
 ],
 "metadata": {
  "kernelspec": {
   "display_name": "Python 3",
   "language": "python",
   "name": "python3"
  },
  "language_info": {
   "codemirror_mode": {
    "name": "ipython",
    "version": 3
   },
   "file_extension": ".py",
   "mimetype": "text/x-python",
   "name": "python",
   "nbconvert_exporter": "python",
   "pygments_lexer": "ipython3",
   "version": "3.6.6"
  }
 },
 "nbformat": 4,
 "nbformat_minor": 2
}
