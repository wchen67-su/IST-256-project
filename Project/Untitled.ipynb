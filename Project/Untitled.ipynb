{
 "cells": [
  {
   "cell_type": "code",
   "execution_count": 1,
   "metadata": {},
   "outputs": [],
   "source": [
    "import requests\n",
    "import pandas as pd\n",
    "import matplotlib\n",
    "import matplotlib.pyplot as plt\n",
    "import random"
   ]
  },
  {
   "cell_type": "code",
   "execution_count": 4,
   "metadata": {},
   "outputs": [
    {
     "name": "stdout",
     "output_type": "stream",
     "text": [
      "Generating a movie description.\n",
      "\n",
      "Does this movie sound interesting to you? Please type yes or no: no\n",
      "Generating a movie description.\n",
      "Set in a futuristic world where humans live in isolation and interact through surrogate robots, a cop is forced to leave his home for the first time in years in order to investigate the murders of others' surrogates.\n",
      "Does this movie sound interesting to you? Please type yes or no: yes\n",
      "['Action', 'Science Fiction', 'Thriller']\n"
     ]
    }
   ],
   "source": [
    "page_number = 0\n",
    "overview_length = 0\n",
    "def moviegenerator():\n",
    "    global page_number\n",
    "    page_number = str(random.randint(0,1000))\n",
    "    api_key = 'ed49669e2301eefe165a22a0551c3496'\n",
    "    response = requests.get('https://api.themoviedb.org/3/discover/movie?api_key=' +  api_key + '&language=en-US&sort_by=popularity.desc&include_adult=True&include_video=false&page=' + page_number)\n",
    "    movies = response.json()\n",
    "    overview = []\n",
    "    for i in range(0,len(movies['results'])):\n",
    "        overview.append(movies['results'][i].get('overview'))\n",
    "    global overview_length\n",
    "    overview_length = random.randint(0,len(overview)-1)\n",
    "    random_overview = overview[overview_length]\n",
    "    return random_overview\n",
    "\n",
    "def getgenre():\n",
    "    api_key = 'ed49669e2301eefe165a22a0551c3496'\n",
    "    response = requests.get('https://api.themoviedb.org/3/discover/movie?api_key=' +  api_key + '&language=en-US&sort_by=popularity.desc&include_adult=True&include_video=false&page=' + page_number)\n",
    "    movies = response.json()\n",
    "    genre_id = []\n",
    "    for i in range(0,len(movies['results'])):\n",
    "        genre_id.append(movies['results'][i].get('genre_ids'))\n",
    "    movie_id = genre_id[overview_length]\n",
    "    genres = []\n",
    "    genre_response = requests.get('https://api.themoviedb.org/3/genre/movie/list?api_key=' +  api_key + '&language=en-US')\n",
    "    genre = genre_response.json()\n",
    "    all_genres = []\n",
    "    genre_names = []\n",
    "    for i in range(0,len(genre['genres'])):\n",
    "        all_genres.append(genre['genres'][i].get('id'))\n",
    "        genre_names.append(genre['genres'][i].get('name'))\n",
    "\n",
    "    for i in range(0,len(movie_id)):\n",
    "        for j in range(0,len(all_genres)):\n",
    "            if movie_id[i] == all_genres[j]:\n",
    "                genres.append(genre_names[j])\n",
    "    return genres\n",
    "\n",
    "stop = True\n",
    "while stop:\n",
    "    print('Generating a movie description.')\n",
    "    print(moviegenerator())\n",
    "    user_input = input(\"Does this movie sound interesting to you? Please type yes or no: \").lower()\n",
    "\n",
    "    while True:\n",
    "        if user_input == 'yes':\n",
    "            print(getgenre())\n",
    "            stop = False\n",
    "            break\n",
    "        elif user_input == 'no':\n",
    "            break\n",
    "        else:\n",
    "            print(\"Invalid input. Please type yes or no: \")\n",
    "            user_input = input(\"Does this movie sound interesting to you? Please type yes or no: \").lower()"
   ]
  },
  {
   "cell_type": "code",
   "execution_count": null,
   "metadata": {},
   "outputs": [],
   "source": []
  }
 ],
 "metadata": {
  "kernelspec": {
   "display_name": "Python 3",
   "language": "python",
   "name": "python3"
  },
  "language_info": {
   "codemirror_mode": {
    "name": "ipython",
    "version": 3
   },
   "file_extension": ".py",
   "mimetype": "text/x-python",
   "name": "python",
   "nbconvert_exporter": "python",
   "pygments_lexer": "ipython3",
   "version": "3.6.6"
  }
 },
 "nbformat": 4,
 "nbformat_minor": 2
}
